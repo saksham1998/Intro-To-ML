{
 "cells": [
  {
   "cell_type": "code",
   "execution_count": 1,
   "metadata": {},
   "outputs": [],
   "source": [
    "from IPython.display import clear_output\n",
    "\n",
    "def display_board(board):\n",
    "    clear_output()\n",
    "    \n",
    "    print('Welcome to Tic Tac Toe!!!!')\n",
    "    print('   |   |')\n",
    "    print(' ' + board[7] + ' | ' + board[8] + ' | ' + board[9])\n",
    "    print('   |   |')\n",
    "    print('-----------')\n",
    "    print('   |   |')\n",
    "    print(' ' + board[4] + ' | ' + board[5] + ' | ' + board[6])\n",
    "    print('   |   |')\n",
    "    print('-----------')\n",
    "    print('   |   |')\n",
    "    print(' ' + board[1] + ' | ' + board[2] + ' | ' + board[3])\n",
    "    print('   |   |')\n",
    "   "
   ]
  },
  {
   "cell_type": "code",
   "execution_count": 2,
   "metadata": {},
   "outputs": [],
   "source": [
    "def game_input():\n",
    "    \n",
    "    marker = ''\n",
    "    while marker!='X' and marker!='0':\n",
    "           marker = input('Player 1, Please Choose X or 0 : ').upper()\n",
    "     \n",
    "    if marker == 'X':\n",
    "        return ('X','0')\n",
    "    else:\n",
    "        return ('0','X')\n",
    "    "
   ]
  },
  {
   "cell_type": "code",
   "execution_count": 3,
   "metadata": {},
   "outputs": [],
   "source": [
    "def value_mark(board,marker,position):\n",
    "    board[position] = marker\n",
    "    display_board(board)\n"
   ]
  },
  {
   "cell_type": "code",
   "execution_count": 4,
   "metadata": {},
   "outputs": [],
   "source": [
    "def win_check(board):\n",
    "\n",
    "    arr = [(1,2,3),(4,5,6),(7,8,9),(1,4,7),(2,5,8),(3,6,9),(1,5,9),(3,5,7)]\n",
    "    \n",
    "    for (a,b,c) in arr:\n",
    "        if board[a]==board[b]==board[c]:\n",
    "            if 'X'==board[a]:\n",
    "                return 'X wins'\n",
    "            elif '0'==board[a]:\n",
    "                return '0 wins'    \n",
    "            else:\n",
    "                return False\n",
    "        "
   ]
  },
  {
   "cell_type": "code",
   "execution_count": 5,
   "metadata": {},
   "outputs": [],
   "source": [
    "import random\n",
    "\n",
    "def who_first():\n",
    "    num = random.randint(0,1)\n",
    "    if num==0:\n",
    "        return 'Player 1'\n",
    "    else:\n",
    "        return 'Player 2'   "
   ]
  },
  {
   "cell_type": "code",
   "execution_count": 6,
   "metadata": {},
   "outputs": [],
   "source": [
    "def space_check(board, position):\n",
    "    return board[position] == ' '"
   ]
  },
  {
   "cell_type": "code",
   "execution_count": 7,
   "metadata": {},
   "outputs": [],
   "source": [
    " def full_board_check(board):\n",
    "        for num in range(1,10):\n",
    "            if space_check(board,num):\n",
    "                return False\n",
    "         \n",
    "        return True\n",
    "    "
   ]
  },
  {
   "cell_type": "code",
   "execution_count": 8,
   "metadata": {},
   "outputs": [],
   "source": [
    "def player_choice(board):\n",
    "    \n",
    "    position = 0\n",
    "    \n",
    "    while position not in range(1,10) or not space_check(board,position):\n",
    "        position = int(input('Please enter a valid number --(1,9):'))\n",
    "        \n",
    "    return position    "
   ]
  },
  {
   "cell_type": "code",
   "execution_count": 9,
   "metadata": {},
   "outputs": [],
   "source": [
    "def replay():\n",
    "    value = input('Wanna Play Again : Yes or No ?').title()\n",
    "    \n",
    "    return value =='Yes'\n",
    "        "
   ]
  },
  {
   "cell_type": "code",
   "execution_count": 14,
   "metadata": {},
   "outputs": [
    {
     "name": "stdout",
     "output_type": "stream",
     "text": [
      "Welcome to Tic Tac Toe!!!!\n",
      "   |   |\n",
      " 0 | X |  \n",
      "   |   |\n",
      "-----------\n",
      "   |   |\n",
      "   | X |  \n",
      "   |   |\n",
      "-----------\n",
      "   |   |\n",
      " 0 | X |  \n",
      "   |   |\n",
      "Player 1 has won\n",
      "Wanna Play Again : Yes or Noyes\n",
      "Player 1, Please Choose X or 0 : 8\n",
      "Player 1, Please Choose X or 0 : x\n",
      "Player 2 will go first!!\n",
      "Are you ready to play? Y or Nn\n",
      "Wanna Play Again : Yes or Non\n"
     ]
    }
   ],
   "source": [
    "\n",
    "\n",
    "\n",
    "# main logic: \n",
    "\n",
    "\n",
    "while True:\n",
    "    \n",
    "    play_board = [' ']*10\n",
    "    \n",
    "    player1,player2 =  game_input()\n",
    "    \n",
    "    turn = who_first()\n",
    "    print(turn +' will go first!!')\n",
    "    \n",
    "    check = input('Are you ready to play? Y or N....').upper()\n",
    "    \n",
    "    if check=='Y':\n",
    "        game_on = True\n",
    "    else:\n",
    "        game_on = False\n",
    "        \n",
    "    while game_on:    \n",
    "        # display the board \n",
    "        display_board(play_board)\n",
    "    \n",
    "        if turn == 'Player 1':\n",
    "            # get the position \n",
    "            position = player_choice(play_board)\n",
    "            #mark the value at the given position\n",
    "            value_mark(play_board,player1,position)\n",
    "        \n",
    "            if win_check(play_board):\n",
    "                print('Player 1 has won')\n",
    "                game_on = False\n",
    "            else:\n",
    "                #check whether their is any free space left on board\n",
    "                if full_board_check(play_board):\n",
    "                    print('Game Drawn!')\n",
    "                    game_on = False\n",
    "                else:\n",
    "                    turn = 'Player 2'\n",
    "        else:\n",
    "            position = player_choice(play_board)\n",
    "        \n",
    "            value_mark(play_board,player2,position)\n",
    "        \n",
    "            if win_check(play_board):\n",
    "                print('Player 1 has won')\n",
    "                game_on = False\n",
    "            else:\n",
    "                if full_board_check(play_board):\n",
    "                    print('Game Drawn!')\n",
    "                    game_on = False\n",
    "                else:\n",
    "                    turn = 'Player 1'\n",
    "                    \n",
    "    if not replay():\n",
    "        break"
   ]
  },
  {
   "cell_type": "code",
   "execution_count": null,
   "metadata": {},
   "outputs": [],
   "source": []
  }
 ],
 "metadata": {
  "kernelspec": {
   "display_name": "Python 3",
   "language": "python",
   "name": "python3"
  },
  "language_info": {
   "codemirror_mode": {
    "name": "ipython",
    "version": 3
   },
   "file_extension": ".py",
   "mimetype": "text/x-python",
   "name": "python",
   "nbconvert_exporter": "python",
   "pygments_lexer": "ipython3",
   "version": "3.7.0"
  }
 },
 "nbformat": 4,
 "nbformat_minor": 2
}
